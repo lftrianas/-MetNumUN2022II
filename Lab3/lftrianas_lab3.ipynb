{
  "nbformat": 4,
  "nbformat_minor": 0,
  "metadata": {
    "colab": {
      "provenance": [],
      "collapsed_sections": [],
      "authorship_tag": "ABX9TyO0zEYYErirV+ebdWtC6CSi",
      "include_colab_link": true
    },
    "kernelspec": {
      "name": "python3",
      "display_name": "Python 3"
    },
    "language_info": {
      "name": "python"
    }
  },
  "cells": [
    {
      "cell_type": "markdown",
      "metadata": {
        "id": "view-in-github",
        "colab_type": "text"
      },
      "source": [
        "<a href=\"https://colab.research.google.com/github/lftrianas/MetNumUN2022II/blob/main/Lab3/lftrianas_lab3.ipynb\" target=\"_parent\"><img src=\"https://colab.research.google.com/assets/colab-badge.svg\" alt=\"Open In Colab\"/></a>"
      ]
    },
    {
      "cell_type": "markdown",
      "source": [
        "**Enlace de Linkedin**\n",
        "\n",
        "https://www.linkedin.com/in/lftrianas/\n",
        "\n"
      ],
      "metadata": {
        "id": "9LPJ7JF614uN"
      }
    }
  ]
}